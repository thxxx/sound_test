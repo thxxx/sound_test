{
 "cells": [
  {
   "cell_type": "code",
   "execution_count": null,
   "id": "29aa09e1-4259-43c6-bff1-8e258c4e8897",
   "metadata": {},
   "outputs": [],
   "source": [
    "from audiodataset import AudioDataset, TestDataset\n",
    "\n",
    "def sampler(dataset):\n",
    "    indices = []\n",
    "    for i in range(len(dataset)):\n",
    "        if dataset[i][2]>=6:\n",
    "            repeat_value = int(dataset[i][2]//9)+2\n",
    "            \n",
    "            indic_nums = [i]*repeat_value\n",
    "            indices.extend(indic_nums)\n",
    "        else:\n",
    "            indices.append(i)\n",
    "    # 인덱스를 무작위로 섞기\n",
    "    random.shuffle(indices)\n",
    "    return iter(indices)"
   ]
  },
  {
   "cell_type": "code",
   "execution_count": null,
   "id": "5a7f8db2-795a-4e0a-ba3c-c36298979eae",
   "metadata": {},
   "outputs": [],
   "source": []
  }
 ],
 "metadata": {
  "kernelspec": {
   "display_name": "Python 3 (ipykernel)",
   "language": "python",
   "name": "python3"
  },
  "language_info": {
   "codemirror_mode": {
    "name": "ipython",
    "version": 3
   },
   "file_extension": ".py",
   "mimetype": "text/x-python",
   "name": "python",
   "nbconvert_exporter": "python",
   "pygments_lexer": "ipython3",
   "version": "3.10.12"
  }
 },
 "nbformat": 4,
 "nbformat_minor": 5
}
