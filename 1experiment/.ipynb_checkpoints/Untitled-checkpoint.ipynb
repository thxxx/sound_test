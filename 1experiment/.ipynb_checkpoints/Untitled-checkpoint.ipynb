{
 "cells": [
  {
   "cell_type": "code",
   "execution_count": null,
   "id": "29aa09e1-4259-43c6-bff1-8e258c4e8897",
   "metadata": {},
   "outputs": [],
   "source": [
    "from audiodataset import AudioDataset, TestDataset\n",
    "\n",
    "def sampler(dataset):\n",
    "    indices = []\n",
    "    for i in range(len(dataset)):\n",
    "        if dataset[i][2]>=6:\n",
    "            repeat_value = int(dataset[i][2]//9)+2\n",
    "            \n",
    "            indic_nums = [i]*repeat_value\n",
    "            indices.extend(indic_nums)\n",
    "        else:\n",
    "            indices.append(i)\n",
    "    # 인덱스를 무작위로 섞기\n",
    "    random.shuffle(indices)\n",
    "    return iter(indices)"
   ]
  },
  {
   "cell_type": "code",
   "execution_count": 29,
   "id": "5a7f8db2-795a-4e0a-ba3c-c36298979eae",
   "metadata": {},
   "outputs": [],
   "source": [
    "import os\n",
    "import time\n",
    "from datetime import datetime\n",
    "import pytz\n",
    "\n",
    "class Logger():\n",
    "    def __init__(self):\n",
    "        self.train_loss = []\n",
    "        self.eval_loss = []\n",
    "        self.random_text = f\"{time.time()}\"\n",
    "\n",
    "    def init(self):\n",
    "        if not os.path.exists(\"logs\"):\n",
    "            os.mkdir(\"logs\")\n",
    "        os.mkdir(\"logs\"+\"/\"+self.random_text)\n",
    "\n",
    "    def logging(self, log):\n",
    "        san_francisco_tz = pytz.timezone('America/Los_Angeles')\n",
    "\n",
    "        now = datetime.utcnow()\n",
    "        sf_time = now.astimezone(san_francisco_tz)\n",
    "        formatted_date = sf_time.strftime(\"%m-%d %H:%M\")\n",
    "        text = f'{formatted_date} : {log}'\n",
    "        with open(f'logs/{self.random_text}/logs.txt', 'a') as file:\n",
    "            file.write(text)\n",
    "        print(log)\n",
    "\n",
    "logger = Logger()"
   ]
  },
  {
   "cell_type": "code",
   "execution_count": 30,
   "id": "1e6bb9d5-54fa-4e36-acd8-9e373e726f91",
   "metadata": {},
   "outputs": [],
   "source": [
    "logger.init()"
   ]
  },
  {
   "cell_type": "code",
   "execution_count": 31,
   "id": "fa9880bd-37bd-43e6-95dc-01078213a9ef",
   "metadata": {},
   "outputs": [
    {
     "name": "stdout",
     "output_type": "stream",
     "text": [
      "--dqw\n"
     ]
    }
   ],
   "source": [
    "logger.logging(\"--dqw\")"
   ]
  },
  {
   "cell_type": "code",
   "execution_count": null,
   "id": "d50321ad-3674-4ef4-b1f6-5989e28fd3fd",
   "metadata": {},
   "outputs": [],
   "source": []
  }
 ],
 "metadata": {
  "kernelspec": {
   "display_name": "Python 3 (ipykernel)",
   "language": "python",
   "name": "python3"
  },
  "language_info": {
   "codemirror_mode": {
    "name": "ipython",
    "version": 3
   },
   "file_extension": ".py",
   "mimetype": "text/x-python",
   "name": "python",
   "nbconvert_exporter": "python",
   "pygments_lexer": "ipython3",
   "version": "3.10.12"
  }
 },
 "nbformat": 4,
 "nbformat_minor": 5
}
